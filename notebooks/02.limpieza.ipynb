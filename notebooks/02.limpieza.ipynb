{
 "cells": [
  {
   "cell_type": "markdown",
   "id": "a9726820",
   "metadata": {},
   "source": [
    "# Things to modify\n",
    "\n",
    "- **Product Name** -> Delete spaces\n",
    "- **Price** -> 40 nulls (2%), change ',' to '.' and change to float\n",
    "- **Discount** -> 40 nulls (2%), change ',' to '.' and change to float\n",
    "- **Total Value** -> Change ',' to '.' and change to float\n",
    "- **Payment Method** -> 1753 nulls (87.65%), delete spaces\n",
    "- **Shipping Method** -> 1753 nulls (87.65%), delete spaces\n",
    "- **Costumer Age** -> 40 nulls (2%)\n",
    "- **Device** -> Change to minus\n",
    "- **Cupon Used** -> 1753 nulls (87.65%)\n",
    "- **Browser** -> Change categories, bad spelling\n",
    "- **Referral Source** -> Change to minus"
   ]
  },
  {
   "cell_type": "code",
   "execution_count": 98,
   "id": "08ef51bf",
   "metadata": {},
   "outputs": [],
   "source": [
    "import pandas as pd\n",
    "pd.set_option('display.max_columns', None)  # to show all columns when displaying a dataframe\n"
   ]
  },
  {
   "cell_type": "code",
   "execution_count": 99,
   "id": "0931925c",
   "metadata": {},
   "outputs": [
    {
     "data": {
      "text/html": [
       "<div>\n",
       "<style scoped>\n",
       "    .dataframe tbody tr th:only-of-type {\n",
       "        vertical-align: middle;\n",
       "    }\n",
       "\n",
       "    .dataframe tbody tr th {\n",
       "        vertical-align: top;\n",
       "    }\n",
       "\n",
       "    .dataframe thead th {\n",
       "        text-align: right;\n",
       "    }\n",
       "</style>\n",
       "<table border=\"1\" class=\"dataframe\">\n",
       "  <thead>\n",
       "    <tr style=\"text-align: right;\">\n",
       "      <th></th>\n",
       "      <th>User Id</th>\n",
       "      <th>Group</th>\n",
       "      <th>Visit Date</th>\n",
       "      <th>Conversion</th>\n",
       "      <th>Product Category</th>\n",
       "      <th>Product Id</th>\n",
       "      <th>Product Name</th>\n",
       "      <th>Quantity</th>\n",
       "      <th>Price</th>\n",
       "      <th>Discount</th>\n",
       "      <th>Total Value</th>\n",
       "      <th>Payment Method</th>\n",
       "      <th>Shipping Method</th>\n",
       "      <th>Region</th>\n",
       "      <th>Customer Age</th>\n",
       "      <th>Customer Gender</th>\n",
       "      <th>Device</th>\n",
       "      <th>Session Duration</th>\n",
       "      <th>Coupon Used</th>\n",
       "      <th>Browser</th>\n",
       "      <th>Referral Source</th>\n",
       "    </tr>\n",
       "  </thead>\n",
       "  <tbody>\n",
       "    <tr>\n",
       "      <th>568</th>\n",
       "      <td>569</td>\n",
       "      <td>B</td>\n",
       "      <td>2022-03-06</td>\n",
       "      <td>0</td>\n",
       "      <td>ELECTRONICS</td>\n",
       "      <td>P1670</td>\n",
       "      <td>Smartphone</td>\n",
       "      <td>0</td>\n",
       "      <td>472,53</td>\n",
       "      <td>0,25</td>\n",
       "      <td>0,0</td>\n",
       "      <td>NaN</td>\n",
       "      <td>NaN</td>\n",
       "      <td>West</td>\n",
       "      <td>63.0</td>\n",
       "      <td>F</td>\n",
       "      <td>Desktop</td>\n",
       "      <td>15</td>\n",
       "      <td>NaN</td>\n",
       "      <td>Chrooome</td>\n",
       "      <td>Email</td>\n",
       "    </tr>\n",
       "    <tr>\n",
       "      <th>181</th>\n",
       "      <td>182</td>\n",
       "      <td>A</td>\n",
       "      <td>2022-01-28</td>\n",
       "      <td>0</td>\n",
       "      <td>ELECTRONICS</td>\n",
       "      <td>P1814</td>\n",
       "      <td>Smartphone</td>\n",
       "      <td>0</td>\n",
       "      <td>451,51</td>\n",
       "      <td>0,29</td>\n",
       "      <td>0,0</td>\n",
       "      <td>NaN</td>\n",
       "      <td>NaN</td>\n",
       "      <td>Central</td>\n",
       "      <td>50.0</td>\n",
       "      <td>M</td>\n",
       "      <td>TABLET</td>\n",
       "      <td>24</td>\n",
       "      <td>NaN</td>\n",
       "      <td>Firefoxxxxxx</td>\n",
       "      <td>Organic</td>\n",
       "    </tr>\n",
       "    <tr>\n",
       "      <th>378</th>\n",
       "      <td>379</td>\n",
       "      <td>B</td>\n",
       "      <td>2022-02-20</td>\n",
       "      <td>1</td>\n",
       "      <td>TOYS</td>\n",
       "      <td>P1616</td>\n",
       "      <td>Board Game</td>\n",
       "      <td>1</td>\n",
       "      <td>94,18</td>\n",
       "      <td>0,24</td>\n",
       "      <td>71,58</td>\n",
       "      <td>PayPal</td>\n",
       "      <td>Express</td>\n",
       "      <td>Central</td>\n",
       "      <td>NaN</td>\n",
       "      <td>M</td>\n",
       "      <td>Desktop</td>\n",
       "      <td>3</td>\n",
       "      <td>Yes</td>\n",
       "      <td>Safaaaaari</td>\n",
       "      <td>Organic</td>\n",
       "    </tr>\n",
       "    <tr>\n",
       "      <th>1047</th>\n",
       "      <td>1048</td>\n",
       "      <td>A</td>\n",
       "      <td>2022-03-31</td>\n",
       "      <td>0</td>\n",
       "      <td>BEAUTY</td>\n",
       "      <td>P1584</td>\n",
       "      <td>Mascara</td>\n",
       "      <td>0</td>\n",
       "      <td>12,2</td>\n",
       "      <td>0,21</td>\n",
       "      <td>0,0</td>\n",
       "      <td>NaN</td>\n",
       "      <td>NaN</td>\n",
       "      <td>East</td>\n",
       "      <td>46.0</td>\n",
       "      <td>M</td>\n",
       "      <td>TABLET</td>\n",
       "      <td>30</td>\n",
       "      <td>NaN</td>\n",
       "      <td>Firefoxxxxxx</td>\n",
       "      <td>Email</td>\n",
       "    </tr>\n",
       "    <tr>\n",
       "      <th>690</th>\n",
       "      <td>691</td>\n",
       "      <td>A</td>\n",
       "      <td>2022-03-03</td>\n",
       "      <td>0</td>\n",
       "      <td>ELECTRONICS</td>\n",
       "      <td>P1653</td>\n",
       "      <td>Camera</td>\n",
       "      <td>0</td>\n",
       "      <td>426,41</td>\n",
       "      <td>0,08</td>\n",
       "      <td>0,0</td>\n",
       "      <td>NaN</td>\n",
       "      <td>NaN</td>\n",
       "      <td>North</td>\n",
       "      <td>35.0</td>\n",
       "      <td>M</td>\n",
       "      <td>TABLET</td>\n",
       "      <td>15</td>\n",
       "      <td>NaN</td>\n",
       "      <td>Safaaaaari</td>\n",
       "      <td>Email</td>\n",
       "    </tr>\n",
       "  </tbody>\n",
       "</table>\n",
       "</div>"
      ],
      "text/plain": [
       "      User Id Group  Visit Date  Conversion Product Category Product Id  \\\n",
       "568       569     B  2022-03-06           0      ELECTRONICS      P1670   \n",
       "181       182     A  2022-01-28           0      ELECTRONICS      P1814   \n",
       "378       379     B  2022-02-20           1             TOYS      P1616   \n",
       "1047     1048     A  2022-03-31           0           BEAUTY      P1584   \n",
       "690       691     A  2022-03-03           0      ELECTRONICS      P1653   \n",
       "\n",
       "     Product Name  Quantity   Price Discount Total Value Payment Method  \\\n",
       "568    Smartphone         0  472,53     0,25         0,0            NaN   \n",
       "181    Smartphone         0  451,51     0,29         0,0            NaN   \n",
       "378    Board Game         1   94,18     0,24       71,58         PayPal   \n",
       "1047      Mascara         0    12,2     0,21         0,0            NaN   \n",
       "690        Camera         0  426,41     0,08         0,0            NaN   \n",
       "\n",
       "     Shipping Method   Region  Customer Age Customer Gender   Device  \\\n",
       "568              NaN     West          63.0               F  Desktop   \n",
       "181              NaN  Central          50.0               M   TABLET   \n",
       "378          Express  Central           NaN               M  Desktop   \n",
       "1047             NaN     East          46.0               M   TABLET   \n",
       "690              NaN    North          35.0               M   TABLET   \n",
       "\n",
       "      Session Duration Coupon Used       Browser Referral Source  \n",
       "568                 15         NaN      Chrooome           Email  \n",
       "181                 24         NaN  Firefoxxxxxx         Organic  \n",
       "378                  3         Yes    Safaaaaari         Organic  \n",
       "1047                30         NaN  Firefoxxxxxx           Email  \n",
       "690                 15         NaN    Safaaaaari           Email  "
      ]
     },
     "execution_count": 99,
     "metadata": {},
     "output_type": "execute_result"
    }
   ],
   "source": [
    "df_raw = pd.read_csv('../data/data_raw.csv')\n",
    "df_raw.sample(5)"
   ]
  },
  {
   "cell_type": "code",
   "execution_count": 100,
   "id": "9610cfe7",
   "metadata": {},
   "outputs": [],
   "source": [
    "df = df_raw.copy()  # work on a copy of the raw data"
   ]
  },
  {
   "cell_type": "markdown",
   "id": "44121c95",
   "metadata": {},
   "source": [
    "### Changes in column names"
   ]
  },
  {
   "cell_type": "code",
   "execution_count": 101,
   "id": "3b0a4842",
   "metadata": {},
   "outputs": [],
   "source": [
    "df.columns = df.columns.str.replace(' ', '_').str.lower()"
   ]
  },
  {
   "cell_type": "markdown",
   "id": "c372b8f5",
   "metadata": {},
   "source": [
    "### visit_date to date_time"
   ]
  },
  {
   "cell_type": "code",
   "execution_count": 102,
   "id": "9bee9e3e",
   "metadata": {},
   "outputs": [],
   "source": [
    "df['visit_date'] = pd.to_datetime(df['visit_date'], format='%Y-%m-%d')"
   ]
  },
  {
   "cell_type": "markdown",
   "id": "493310ee",
   "metadata": {},
   "source": [
    "### conversion to string"
   ]
  },
  {
   "cell_type": "code",
   "execution_count": 103,
   "id": "48100da6",
   "metadata": {},
   "outputs": [],
   "source": [
    "df['conversion'] = df['conversion'].apply(lambda x: 'yes' if x==1 else 'no')"
   ]
  },
  {
   "cell_type": "markdown",
   "id": "01c7c194",
   "metadata": {},
   "source": [
    "### product_category to minus"
   ]
  },
  {
   "cell_type": "code",
   "execution_count": 104,
   "id": "d1d2a000",
   "metadata": {},
   "outputs": [],
   "source": [
    "df['product_category'] = df['product_category'].str.lower()\n",
    "df['product_category'] = df['product_category'].str.replace('fashhionn', 'fashion')   # fix typo"
   ]
  },
  {
   "cell_type": "markdown",
   "id": "0df5d395",
   "metadata": {},
   "source": [
    "### product_id to integer\n"
   ]
  },
  {
   "cell_type": "code",
   "execution_count": 105,
   "id": "59ea1a46",
   "metadata": {},
   "outputs": [],
   "source": [
    "df['product_id'] = df['product_id'].str.replace('P', '').astype('int64')"
   ]
  },
  {
   "cell_type": "markdown",
   "id": "64c4dee0",
   "metadata": {},
   "source": [
    "### no spaces in product_name "
   ]
  },
  {
   "cell_type": "code",
   "execution_count": 106,
   "id": "1f91905b",
   "metadata": {},
   "outputs": [],
   "source": [
    "df['product_name'] = df['product_name'].str.replace(' ', '_')"
   ]
  },
  {
   "cell_type": "markdown",
   "id": "b694f526",
   "metadata": {},
   "source": [
    "### price to float"
   ]
  },
  {
   "cell_type": "code",
   "execution_count": 107,
   "id": "640a6ca2",
   "metadata": {},
   "outputs": [],
   "source": [
    "df['price'] = df['price'].str.replace(',', '.').astype('float64')"
   ]
  },
  {
   "cell_type": "code",
   "execution_count": 108,
   "id": "c86809ef",
   "metadata": {},
   "outputs": [
    {
     "name": "stdout",
     "output_type": "stream",
     "text": [
      "<class 'pandas.core.frame.DataFrame'>\n",
      "RangeIndex: 2000 entries, 0 to 1999\n",
      "Data columns (total 21 columns):\n",
      " #   Column            Non-Null Count  Dtype         \n",
      "---  ------            --------------  -----         \n",
      " 0   user_id           2000 non-null   int64         \n",
      " 1   group             2000 non-null   object        \n",
      " 2   visit_date        2000 non-null   datetime64[ns]\n",
      " 3   conversion        2000 non-null   object        \n",
      " 4   product_category  2000 non-null   object        \n",
      " 5   product_id        2000 non-null   int64         \n",
      " 6   product_name      2000 non-null   object        \n",
      " 7   quantity          2000 non-null   int64         \n",
      " 8   price             1960 non-null   float64       \n",
      " 9   discount          1960 non-null   object        \n",
      " 10  total_value       2000 non-null   object        \n",
      " 11  payment_method    247 non-null    object        \n",
      " 12  shipping_method   247 non-null    object        \n",
      " 13  region            2000 non-null   object        \n",
      " 14  customer_age      1960 non-null   float64       \n",
      " 15  customer_gender   2000 non-null   object        \n",
      " 16  device            2000 non-null   object        \n",
      " 17  session_duration  2000 non-null   int64         \n",
      " 18  coupon_used       247 non-null    object        \n",
      " 19  browser           2000 non-null   object        \n",
      " 20  referral_source   2000 non-null   object        \n",
      "dtypes: datetime64[ns](1), float64(2), int64(4), object(14)\n",
      "memory usage: 328.3+ KB\n"
     ]
    }
   ],
   "source": [
    "df.info()  # check data types and non-null counts"
   ]
  }
 ],
 "metadata": {
  "kernelspec": {
   "display_name": "proyecto_amazon_abtesting",
   "language": "python",
   "name": "python3"
  },
  "language_info": {
   "codemirror_mode": {
    "name": "ipython",
    "version": 3
   },
   "file_extension": ".py",
   "mimetype": "text/x-python",
   "name": "python",
   "nbconvert_exporter": "python",
   "pygments_lexer": "ipython3",
   "version": "3.11.5"
  }
 },
 "nbformat": 4,
 "nbformat_minor": 5
}
