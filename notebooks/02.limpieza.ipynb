{
 "cells": [
  {
   "cell_type": "markdown",
   "id": "a9726820",
   "metadata": {},
   "source": [
    "# Things to modify\n",
    "\n",
    "- **Visit Date** -> Change to date\n",
    "- **Conversion** -> Change to string or boolean (?)\n",
    "- **Product Category** -> Change to minus, change FASHION\n",
    "- **Product Id** -> Change to num (?)\n",
    "- **Product Name** -> Delete spaces\n",
    "- **Price** -> 40 nulls (2%), change ',' to '.' and change to float\n",
    "- **Discount** -> 40 nulls (2%), change ',' to '.' and change to float\n",
    "- **Total Value** -> Change ',' to '.' and change to float\n",
    "- **Payment Method** -> 1753 nulls (87.65%), delete spaces\n",
    "- **Shipping Method** -> 1753 nulls (87.65%), delete spaces\n",
    "- **Costumer Age** -> 40 nulls (2%)\n",
    "- **Device** -> Change to minus\n",
    "- **Cupon Used** -> 1753 nulls (87.65%)\n",
    "- **Browser** -> Change categories, bad spelling\n",
    "- **Referral Source** -> Change to minus"
   ]
  },
  {
   "cell_type": "code",
   "execution_count": 1,
   "id": "08ef51bf",
   "metadata": {},
   "outputs": [],
   "source": [
    "import pandas as pd"
   ]
  },
  {
   "cell_type": "code",
   "execution_count": 2,
   "id": "0931925c",
   "metadata": {},
   "outputs": [],
   "source": [
    "df = pd.read_csv('../data/data_raw.csv')"
   ]
  }
 ],
 "metadata": {
  "kernelspec": {
   "display_name": "proyecto_amazon_abtesting",
   "language": "python",
   "name": "python3"
  },
  "language_info": {
   "codemirror_mode": {
    "name": "ipython",
    "version": 3
   },
   "file_extension": ".py",
   "mimetype": "text/x-python",
   "name": "python",
   "nbconvert_exporter": "python",
   "pygments_lexer": "ipython3",
   "version": "3.11.5"
  }
 },
 "nbformat": 4,
 "nbformat_minor": 5
}
